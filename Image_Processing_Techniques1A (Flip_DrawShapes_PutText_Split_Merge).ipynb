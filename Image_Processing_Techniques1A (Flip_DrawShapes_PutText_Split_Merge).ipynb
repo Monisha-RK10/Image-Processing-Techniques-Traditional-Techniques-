{
 "cells": [
  {
   "cell_type": "code",
   "execution_count": 1,
   "id": "fde001f4",
   "metadata": {},
   "outputs": [],
   "source": [
    "#load and show color (default) image\n",
    "import cv2\n",
    "image_path = r'D:\\ComputerVision_Projects\\Image_Processing_1\\input\\avengers.jpg' \n",
    "image = cv2.imread(image_path,1) #default (BGR)\n",
    "image = cv2.resize(image,(800,600))\n",
    "cv2.imshow('image',image)\n",
    "cv2.waitKey(0) #image is static when the value is set to 0\n",
    "cv2.destroyAllWindows()"
   ]
  },
  {
   "cell_type": "code",
   "execution_count": 2,
   "id": "a1735980",
   "metadata": {},
   "outputs": [],
   "source": [
    "#load and show gray image\n",
    "import cv2\n",
    "image_path = r'D:\\ComputerVision_Projects\\Image_Processing_1\\input\\avengers.jpg' \n",
    "image = cv2.imread(image_path,0) #gray image\n",
    "image = cv2.resize(image,(800,600))\n",
    "cv2.imshow('image',image)\n",
    "cv2.waitKey(0)\n",
    "cv2.destroyAllWindows()"
   ]
  },
  {
   "cell_type": "code",
   "execution_count": 3,
   "id": "4e3133f3",
   "metadata": {},
   "outputs": [],
   "source": [
    "#load and show unchanged (original with some alpha channels) image\n",
    "import cv2\n",
    "image_path = r'D:\\ComputerVision_Projects\\Image_Processing_1\\input\\avengers.jpg' \n",
    "image = cv2.imread(image_path,-1) #unchanged (original with some alpha channels)\n",
    "image = cv2.resize(image,(800,600))\n",
    "cv2.imshow('image',image)\n",
    "cv2.waitKey(0)\n",
    "cv2.destroyAllWindows()"
   ]
  },
  {
   "cell_type": "code",
   "execution_count": 4,
   "id": "be5342ae",
   "metadata": {},
   "outputs": [],
   "source": [
    "#load and flip the image along vertical axis\n",
    "import cv2\n",
    "image_path = r'D:\\ComputerVision_Projects\\Image_Processing_1\\input\\thor.jpg' \n",
    "image = cv2.imread(image_path,1) \n",
    "image = cv2.resize(image,(800,600))\n",
    "image = cv2.flip(image,1) #unchanged\n",
    "cv2.imshow('image',image)\n",
    "cv2.waitKey(0)\n",
    "cv2.destroyAllWindows()"
   ]
  },
  {
   "cell_type": "code",
   "execution_count": 5,
   "id": "a26faf6c",
   "metadata": {},
   "outputs": [],
   "source": [
    "#load and flip the image upside down\n",
    "import cv2\n",
    "image_path = r'D:\\ComputerVision_Projects\\Image_Processing_1\\input\\thor.jpg' \n",
    "image = cv2.imread(image_path,-1)\n",
    "image = cv2.resize(image,(800,600))\n",
    "image = cv2.flip(image,0) #upside down\n",
    "cv2.imshow('image',image)\n",
    "cv2.waitKey(0)\n",
    "cv2.destroyAllWindows()"
   ]
  },
  {
   "cell_type": "code",
   "execution_count": 6,
   "id": "dd09a721",
   "metadata": {},
   "outputs": [],
   "source": [
    "#load and flip the image upside down, then along vertical axis\n",
    "import cv2\n",
    "image_path = r'D:\\ComputerVision_Projects\\Image_Processing_1\\input\\thor.jpg' \n",
    "image = cv2.imread(image_path,1)\n",
    "image = cv2.resize(image,(800,600))\n",
    "image = cv2.flip(image,-1) #upside down, then along vertical axis\n",
    "cv2.imshow('image',image)\n",
    "cv2.waitKey(0)\n",
    "cv2.destroyAllWindows()"
   ]
  },
  {
   "cell_type": "code",
   "execution_count": 7,
   "id": "457afa46",
   "metadata": {},
   "outputs": [],
   "source": [
    "#load video and capture them frame-wise\n",
    "import cv2\n",
    "video_path = r'D:\\ComputerVision_Projects\\Image_Processing_1\\input\\people.mp4'\n",
    "cap = cv2.VideoCapture(video_path)\n",
    "ret, frame = cap.read()\n",
    "while ret:\n",
    "    ret, frame = cap.read()\n",
    "    frame = cv2.resize(frame,(800,600))\n",
    "    cv2.imshow(\"video\",frame)\n",
    "    if cv2.waitKey(25) == ord('q'):\n",
    "        break\n",
    "cap.release()\n",
    "cv2.destroyAllWindows()"
   ]
  },
  {
   "cell_type": "code",
   "execution_count": 8,
   "id": "e9dd4479",
   "metadata": {},
   "outputs": [],
   "source": [
    "#load video in grayscale and capture them frame-wise\n",
    "import cv2\n",
    "video_path = r'D:\\ComputerVision_Projects\\Image_Processing_1\\input\\street.mp4'\n",
    "cap = cv2.VideoCapture(video_path)\n",
    "ret, frame = cap.read()\n",
    "while ret:\n",
    "    ret, frame = cap.read()\n",
    "    frame = cv2.resize(frame,(800,600))\n",
    "    frame_gray = cv2.cvtColor(frame, cv2.COLOR_BGR2GRAY)\n",
    "    cv2.imshow(\"video\",frame)\n",
    "    cv2.imshow(\"video_gray\",frame_gray)\n",
    "    if cv2.waitKey(25) == ord('q'):\n",
    "        break\n",
    "cap.release()\n",
    "cv2.destroyAllWindows()"
   ]
  },
  {
   "cell_type": "code",
   "execution_count": 9,
   "id": "a7bafce3",
   "metadata": {},
   "outputs": [],
   "source": [
    "#capture video from webcam, read them frame-wise, and store it locally\n",
    "import cv2\n",
    "cap = cv2.VideoCapture(0) #primary camera: 0, external: 1\n",
    "\n",
    "#store the output video\n",
    "fourcc = cv2.VideoWriter_fourcc(*\"XVID\")\n",
    "output = cv2.VideoWriter(\"D:\\ComputerVision_Projects\\Image_Processing_1\\output\\output_1.avi\", fourcc, 20.0, (800,600)) #name, format, fps, size (width, height)\n",
    "\n",
    "#capture frame until the end of the video\n",
    "while cap.read():\n",
    "    ret, frame = cap.read()\n",
    "    if ret==True:\n",
    "        frame = cv2.resize(frame,(800,600))\n",
    "        cv2.imshow(\"video\",frame)\n",
    "        output.write(frame)\n",
    "        if cv2.waitKey(25) == ord('q'):\n",
    "            break\n",
    "\n",
    "#release all\n",
    "cap.release()\n",
    "output.release()\n",
    "cv2.destroyAllWindows()"
   ]
  },
  {
   "cell_type": "code",
   "execution_count": 10,
   "id": "32a1f8ce",
   "metadata": {},
   "outputs": [],
   "source": [
    "#load image and draw figures on it\n",
    "import cv2\n",
    "path = r'D:\\ComputerVision_Projects\\Image_Processing_1\\input\\thor.jpg'\n",
    "image = cv2.imread(path)\n",
    "image = cv2.resize(image,(500,500))\n",
    "\n",
    "#draw figures\n",
    "image = cv2.line(image, (100,100), (400,100), (200,14,166), 5)\n",
    "image = cv2.rectangle(image, (10,10), (480,480), (100,14,166), 3)\n",
    "image = cv2.circle(image, (200,200), 50, (150,150,150), 3)\n",
    "image = cv2.arrowedLine(image, (10,450), (300,100), (150,150,15), 3)\n",
    "image = cv2.putText(image, \"Thor\", (200,400), cv2.FONT_ITALIC, 2, (100,170,90), 5, cv2.LINE_AA)\n",
    "\n",
    "cv2.imshow('image', image)\n",
    "cv2.waitKey(0)\n",
    "cv2.destroyAllWindows()"
   ]
  },
  {
   "cell_type": "code",
   "execution_count": 11,
   "id": "c6814030",
   "metadata": {},
   "outputs": [
    {
     "name": "stdout",
     "output_type": "stream",
     "text": [
      "frame width 1280.0\n",
      "frame height 720.0\n"
     ]
    }
   ],
   "source": [
    "#load video and time frame to it\n",
    "import cv2\n",
    "import datetime\n",
    "\n",
    "video_path = r'D:\\ComputerVision_Projects\\Image_Processing_1\\input\\street.mp4'\n",
    "cap = cv2.VideoCapture(video_path)\n",
    "print(\"frame width\",cap.get(cv2.CAP_PROP_FRAME_WIDTH))\n",
    "frame_width = cap.get(3)\n",
    "print(\"frame height\", cap.get(cv2.CAP_PROP_FRAME_HEIGHT))\n",
    "frame_height =  cap.get(4)\n",
    "\n",
    "while cap.read():\n",
    "    ret, frame = cap.read()\n",
    "    text = \"Width: \" + str(frame_width) + \" Height: \" + str(frame_height) \n",
    "    date = datetime.datetime.now()\n",
    "    cv2.putText(frame, text+' '+str(date), (100,150), cv2.FONT_ITALIC ,1,(1,1,255),2,cv2.LINE_AA)\n",
    "    cv2.rectangle(frame, (50,100), (1100,180), (250,1,5), 4)\n",
    "    cv2.imshow('video', frame)\n",
    "    if cv2.waitKey(25) == ord('q'):\n",
    "        break\n",
    "\n",
    "\n",
    "cap.release()\n",
    "cv2.destroyAllWindows()"
   ]
  },
  {
   "cell_type": "code",
   "execution_count": 12,
   "id": "e659ceba",
   "metadata": {},
   "outputs": [],
   "source": [
    "#load the image, split the channels and merge them into (rgb), (gbr)\n",
    "import cv2\n",
    "image_path = r'D:\\ComputerVision_Projects\\Image_Processing_1\\input\\thor.jpg' \n",
    "image = cv2.imread(image_path,1) #along vertical axis\n",
    "image = cv2.resize(image,(800,600))\n",
    "\n",
    "#split the image across channels\n",
    "b,g,r = cv2.split(image)\n",
    "#merge the channels into (rgb) & (gbr)\n",
    "image_rgb = cv2.merge((r,g,b))\n",
    "image_gbr = cv2.merge((g,b,r))\n",
    "\n",
    "while True:\n",
    "    cv2.imshow('image in [b g r]', image)\n",
    "    cv2.imshow('image in [r g b]', image_rgb)  \n",
    "    cv2.imshow('image in [g b r]', image_gbr) \n",
    "    \n",
    "    if cv2.waitKey(0) == ord('q'):\n",
    "        break  \n",
    "\n",
    "cv2.destroyAllWindows()"
   ]
  },
  {
   "cell_type": "code",
   "execution_count": 18,
   "id": "ccde8659",
   "metadata": {},
   "outputs": [],
   "source": [
    "#load image and make border\n",
    "import cv2\n",
    "image_path = r'D:\\ComputerVision_Projects\\Image_Processing_1\\input\\avengers.jpg'\n",
    "image = cv2.imread(image_path)\n",
    "image = cv2.resize(image, (800,600))\n",
    "\n",
    "#assign thickness for horizontal and vertical axis with color value\n",
    "image = cv2.copyMakeBorder(image,15,15,5,5,cv2.BORDER_CONSTANT, value = [0,255,0])\n",
    "cv2.imshow('image', image)\n",
    "\n",
    "cv2.waitKey(0)\n",
    "cv2.destroyAllWindows()"
   ]
  }
 ],
 "metadata": {
  "kernelspec": {
   "display_name": "Python 3",
   "language": "python",
   "name": "python3"
  },
  "language_info": {
   "codemirror_mode": {
    "name": "ipython",
    "version": 3
   },
   "file_extension": ".py",
   "mimetype": "text/x-python",
   "name": "python",
   "nbconvert_exporter": "python",
   "pygments_lexer": "ipython3",
   "version": "3.8.8"
  },
  "varInspector": {
   "cols": {
    "lenName": 16,
    "lenType": 16,
    "lenVar": 40
   },
   "kernels_config": {
    "python": {
     "delete_cmd_postfix": "",
     "delete_cmd_prefix": "del ",
     "library": "var_list.py",
     "varRefreshCmd": "print(var_dic_list())"
    },
    "r": {
     "delete_cmd_postfix": ") ",
     "delete_cmd_prefix": "rm(",
     "library": "var_list.r",
     "varRefreshCmd": "cat(var_dic_list()) "
    }
   },
   "types_to_exclude": [
    "module",
    "function",
    "builtin_function_or_method",
    "instance",
    "_Feature"
   ],
   "window_display": false
  }
 },
 "nbformat": 4,
 "nbformat_minor": 5
}
