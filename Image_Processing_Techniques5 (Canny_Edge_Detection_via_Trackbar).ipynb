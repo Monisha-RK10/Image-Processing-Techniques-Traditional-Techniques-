{
 "cells": [
  {
   "cell_type": "code",
   "execution_count": null,
   "id": "4efb4239",
   "metadata": {},
   "outputs": [],
   "source": [
    "#perform edge detction via Canny Edge Detector\n",
    "import cv2\n",
    "image_path = r'D:\\ComputerVision_Projects\\Image_Processing_1\\input\\building.jpg'\n",
    "image = cv2.imread(image_path)\n",
    "image = cv2.resize(image,(700,500))\n",
    "image_gray = cv2.cvtColor(image,cv2.COLOR_BGR2GRAY)\n",
    "\n",
    "image_canny = cv2.Canny(image_gray, 50,100)\n",
    "\n",
    "cv2.imshow('image',image)\n",
    "cv2.imshow('image_gray',image_gray)\n",
    "cv2.imshow('image_canny',image_canny)\n",
    "\n",
    "cv2.waitKey(0)\n",
    "cv2.destroyAllWindows()"
   ]
  },
  {
   "cell_type": "code",
   "execution_count": 3,
   "id": "73d611cc",
   "metadata": {
    "scrolled": true
   },
   "outputs": [],
   "source": [
    "#perform edge detction via Canny Edge Detector via trackbar\n",
    "import cv2\n",
    "image_path = r'D:\\ComputerVision_Projects\\Image_Processing_1\\input\\building.jpg'\n",
    "image = cv2.imread(image_path)\n",
    "image = cv2.resize(image,(700,500))\n",
    "image_gray = cv2.cvtColor(image,cv2.COLOR_BGR2GRAY)\n",
    "\n",
    "def nothing(x):\n",
    "    pass\n",
    "\n",
    "cv2.namedWindow('Canny')\n",
    "cv2.createTrackbar('threshold', 'Canny',0,255, nothing)\n",
    "\n",
    "while True:\n",
    "    threshold = cv2.getTrackbarPos('threshold', 'Canny')\n",
    "    image_canny = cv2.Canny(image_gray, threshold,255) \n",
    "    if cv2.waitKey(1) == ord('q'):\n",
    "        break\n",
    "    cv2.imshow('image',image)\n",
    "    cv2.imshow('image_gray',image_gray)\n",
    "    cv2.imshow('Canny',image_canny)\n",
    "\n",
    "cv2.destroyAllWindows()"
   ]
  },
  {
   "cell_type": "code",
   "execution_count": null,
   "id": "30fab2f0",
   "metadata": {},
   "outputs": [],
   "source": [
    "#Steps in Canny Edge Detection https://docs.opencv.org/3.4/da/d22/tutorial_py_canny.html\n",
    "#Filter the image with the derivative of Gaussian (smoothing).\n",
    "#Find the magnitude and orientation of the gradient.(Sobel)\n",
    "#Apply Non-maximum suppression to thin the edges.\n",
    "#Double threshold to remove noise.\n",
    "#Apply Hysteresis for edge tracking.\n",
    " \n",
    "#Challenge in Canny edge detector - Min/max thresholds are difﬁcult to ﬁnd for a given image."
   ]
  }
 ],
 "metadata": {
  "kernelspec": {
   "display_name": "Python 3",
   "language": "python",
   "name": "python3"
  },
  "language_info": {
   "codemirror_mode": {
    "name": "ipython",
    "version": 3
   },
   "file_extension": ".py",
   "mimetype": "text/x-python",
   "name": "python",
   "nbconvert_exporter": "python",
   "pygments_lexer": "ipython3",
   "version": "3.8.8"
  },
  "varInspector": {
   "cols": {
    "lenName": 16,
    "lenType": 16,
    "lenVar": 40
   },
   "kernels_config": {
    "python": {
     "delete_cmd_postfix": "",
     "delete_cmd_prefix": "del ",
     "library": "var_list.py",
     "varRefreshCmd": "print(var_dic_list())"
    },
    "r": {
     "delete_cmd_postfix": ") ",
     "delete_cmd_prefix": "rm(",
     "library": "var_list.r",
     "varRefreshCmd": "cat(var_dic_list()) "
    }
   },
   "types_to_exclude": [
    "module",
    "function",
    "builtin_function_or_method",
    "instance",
    "_Feature"
   ],
   "window_display": false
  }
 },
 "nbformat": 4,
 "nbformat_minor": 5
}
