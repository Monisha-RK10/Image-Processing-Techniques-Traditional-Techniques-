{
 "cells": [
  {
   "cell_type": "code",
   "execution_count": 3,
   "id": "a0eb842c",
   "metadata": {},
   "outputs": [],
   "source": [
    "#perform image pyramid\n",
    "import cv2\n",
    "image_path = r'D:\\ComputerVision_Projects\\Image_Processing_1\\input\\thor.jpg'\n",
    "image = cv2.imread(image_path)\n",
    "image = cv2.resize(image,(1000,1000))\n",
    "\n",
    "#perform down and then up pyramid function on the image\n",
    "image_pyramid_list = []\n",
    "for i in range(0,4):\n",
    "    image = cv2.pyrDown(image)\n",
    "    image_pyramid_list.append(image)\n",
    "for i in range(0,3):\n",
    "    image = cv2.pyrUp(image)\n",
    "    image_pyramid_list.append(image)\n",
    "\n",
    "    #plot graphs\n",
    "for i in range(0,7):\n",
    "    cv2.imshow(str(i),image_pyramid_list[i])\n",
    "\n",
    "cv2.waitKey(0)\n",
    "cv2.destroyAllWindows()"
   ]
  },
  {
   "cell_type": "code",
   "execution_count": 32,
   "id": "dcf931ba",
   "metadata": {},
   "outputs": [],
   "source": [
    "#draw contour around the objects\n",
    "import cv2\n",
    "image_path = r'D:\\ComputerVision_Projects\\Image_Processing_1\\input\\logo.jpg'\n",
    "image = cv2.imread(image_path)\n",
    "image = cv2.resize(image,(400,500))\n",
    "\n",
    "image_gray = cv2.cvtColor(image,cv2.COLOR_BGR2GRAY)\n",
    "_,image_threshold = cv2.threshold(image_gray,10,255,cv2.THRESH_BINARY)\n",
    "contours, hierarchy = cv2.findContours(image_threshold,cv2.RETR_TREE,cv2.CHAIN_APPROX_SIMPLE)\n",
    "image_contours = cv2.drawContours(image,contours,-1,(255,0,0),5)\n",
    "\n",
    "cv2.imshow('image',image)\n",
    "cv2.imshow('image_gray',image_gray)\n",
    "cv2.imshow('image_threshold',image_threshold)\n",
    "cv2.imshow('image_contours',image_contours)\n",
    "\n",
    "cv2.waitKey(0)\n",
    "cv2.destroyAllWindows()"
   ]
  },
  {
   "cell_type": "code",
   "execution_count": 64,
   "id": "cfa4b66a",
   "metadata": {},
   "outputs": [],
   "source": [
    "#draw contours, convex hull, and find centre of the objects\n",
    "import cv2\n",
    "image_path = r'D:\\ComputerVision_Projects\\Image_Processing_1\\input\\shapes.png'\n",
    "image = cv2.imread(image_path)\n",
    "\n",
    "image_gray = cv2.cvtColor(image,cv2.COLOR_BGR2GRAY)\n",
    "_,image_threshold = cv2.threshold(image_gray, 200, 255, cv2.THRESH_BINARY_INV)\n",
    "contours,hierarchy = cv2.findContours(image_threshold, cv2.RETR_TREE, cv2.CHAIN_APPROX_SIMPLE)\n",
    "\n",
    "contours_information = []\n",
    "discard = 0.01\n",
    "for contour in contours:\n",
    "    contour_moment = cv2.moments(contour)\n",
    "    contour_center_x = int(contour_moment[\"m10\"]/contour_moment[\"m00\"])\n",
    "    contour_center_y = int(contour_moment[\"m01\"]/contour_moment[\"m00\"])\n",
    "    contour_perimeter_reduced = discard*cv2.arcLength(contour,True)\n",
    "    countour_points = cv2.approxPolyDP(contour,contour_perimeter_reduced,True)\n",
    "    contour_convex_hull = cv2.convexHull(countour_points)\n",
    "    x,y,w,h = cv2.boundingRect(contour_convex_hull)\n",
    "    \n",
    "    cv2.drawContours(image,[contour],-1,(255,0,0),5)\n",
    "    cv2.rectangle(image,(x,y),(x+w,y+h),(100,50,100),5)\n",
    "    cv2.circle(image,(contour_center_x, contour_center_y), 10, (0,0,255),-1)\n",
    "    cv2.putText(image,\"center\", (contour_center_x-10, contour_center_y-10), cv2.FONT_ITALIC, 0.5, (0,255,0),1, cv2.LINE_AA)\n",
    "    \n",
    "    \n",
    "\n",
    "cv2.imshow('image',image)\n",
    "cv2.imshow('image_gray',image_gray)\n",
    "cv2.imshow('image_threshold',image_threshold)\n",
    "\n",
    "cv2.waitKey(0)\n",
    "cv2.destroyAllWindows()"
   ]
  },
  {
   "cell_type": "code",
   "execution_count": 79,
   "id": "18910b3e",
   "metadata": {},
   "outputs": [],
   "source": [
    "import cv2\n",
    "image_path = r'D:\\ComputerVision_Projects\\Image_Processing_1\\input\\shapes.png'\n",
    "image = cv2.imread(image_path)\n",
    "image_gray = cv2.cvtColor(image,cv2.COLOR_BGR2GRAY)\n",
    "_,image_threshold =cv2.threshold(image_gray, 200, 255, cv2.THRESH_BINARY_INV)\n",
    "\n",
    "contours, hierarchy = cv2.findContours(image_threshold, cv2.RETR_TREE, cv2.CHAIN_APPROX_SIMPLE)\n",
    "discard = 0.01\n",
    "for contour in contours:\n",
    "    contour_moment = cv2.moments(contour)\n",
    "    contour_center_x = int(contour_moment[\"m10\"]/contour_moment[\"m00\"])\n",
    "    contour_center_y = int(contour_moment[\"m01\"]/contour_moment[\"m00\"])\n",
    "    epsilon = discard*cv2.arcLength(contour,True)\n",
    "    contour_perimeter = cv2.approxPolyDP(contour,epsilon,True)\n",
    "    contour_convex_hull = cv2.convexHull(contour_perimeter)\n",
    "    x,y,w,h = cv2.boundingRect(contour_convex_hull)\n",
    "    cv2.drawContours(image,contour,2,(255,0,0),5)\n",
    "    cv2.rectangle(image,(x,y),(x+w,y+h),(0,255,0),4)\n",
    "    \n",
    "    cv2.circle(image,(contour_center_x,contour_center_y),4,(0,0,255),-1)\n",
    "    cv2.putText(image,\"center\",(contour_center_x-10,contour_center_y-10),cv2.FONT_ITALIC,1,(100,50,50),1,cv2.LINE_AA)\n",
    "\n",
    "cv2.imshow('image',image)\n",
    "cv2.imshow('image_gray',image_gray)\n",
    "cv2.imshow('image_threshold',image_threshold)\n",
    "\n",
    "cv2.waitKey(0)\n",
    "cv2.destroyAllWindows()"
   ]
  }
 ],
 "metadata": {
  "kernelspec": {
   "display_name": "Python 3",
   "language": "python",
   "name": "python3"
  },
  "language_info": {
   "codemirror_mode": {
    "name": "ipython",
    "version": 3
   },
   "file_extension": ".py",
   "mimetype": "text/x-python",
   "name": "python",
   "nbconvert_exporter": "python",
   "pygments_lexer": "ipython3",
   "version": "3.8.8"
  },
  "varInspector": {
   "cols": {
    "lenName": 16,
    "lenType": 16,
    "lenVar": 40
   },
   "kernels_config": {
    "python": {
     "delete_cmd_postfix": "",
     "delete_cmd_prefix": "del ",
     "library": "var_list.py",
     "varRefreshCmd": "print(var_dic_list())"
    },
    "r": {
     "delete_cmd_postfix": ") ",
     "delete_cmd_prefix": "rm(",
     "library": "var_list.r",
     "varRefreshCmd": "cat(var_dic_list()) "
    }
   },
   "types_to_exclude": [
    "module",
    "function",
    "builtin_function_or_method",
    "instance",
    "_Feature"
   ],
   "window_display": false
  }
 },
 "nbformat": 4,
 "nbformat_minor": 5
}
