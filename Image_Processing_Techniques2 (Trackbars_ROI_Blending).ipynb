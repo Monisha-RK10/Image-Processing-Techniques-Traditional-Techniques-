{
 "cells": [
  {
   "cell_type": "code",
   "execution_count": 2,
   "id": "bcc61476",
   "metadata": {},
   "outputs": [],
   "source": [
    "#access different colors by color trackbar on a black background\n",
    "import cv2\n",
    "import numpy as np\n",
    "import skimage.io as io\n",
    "\n",
    "#load an image\n",
    "image = np.zeros((300,400,3), np.uint8)\n",
    "\n",
    "#create a window that holds all the options\n",
    "cv2.namedWindow('Window for Color Bars')\n",
    "\n",
    "#create an empty function\n",
    "def nothing(x):\n",
    "    pass\n",
    "\n",
    "#create trackbars for switch and colors (r,g,b)\n",
    "cv2.createTrackbar('ON/OFF', 'Window for Color Bars', 0, 1, nothing)\n",
    "cv2.createTrackbar('B', 'Window for Color Bars', 0, 255, nothing)\n",
    "cv2.createTrackbar('G', 'Window for Color Bars', 0, 255, nothing)\n",
    "cv2.createTrackbar('R', 'Window for Color Bars', 0, 255, nothing)\n",
    "\n",
    "#run the code as long as wait key is pressed\n",
    "while True:\n",
    "    #open the image in the same window where options are stored\n",
    "    cv2.imshow('Window for Color Bars',image)\n",
    "    #close the window if pressed 'q'\n",
    "    if cv2.waitKey(1) == ord('q'): #waitKey is 1 to reflect changes in the status of the options\n",
    "        break\n",
    "        \n",
    "    #get the status of all the options\n",
    "    s = cv2.getTrackbarPos('ON/OFF', 'Window for Color Bars')\n",
    "    b = cv2.getTrackbarPos('B', 'Window for Color Bars')\n",
    "    g = cv2.getTrackbarPos('G', 'Window for Color Bars')\n",
    "    r = cv2.getTrackbarPos('R', 'Window for Color Bars')\n",
    "    \n",
    "    #implement what you want to do with the status of all the options\n",
    "    if s==0:\n",
    "        image[:] = 0\n",
    "    else:\n",
    "        image[:] = [b,g,r]\n",
    "\n",
    "#destroy all windows\n",
    "cv2.destroyAllWindows()"
   ]
  },
  {
   "cell_type": "code",
   "execution_count": 3,
   "id": "6bd17be3",
   "metadata": {},
   "outputs": [],
   "source": [
    "#extract region of interest (RoI) from an image and paste that RoI in another location in the same image\n",
    "\n",
    "import cv2\n",
    "image_path = r'D:\\ComputerVision_Projects\\Image_Processing_1\\input\\extract_roi.jpg'\n",
    "image = cv2.imread(image_path)\n",
    "\n",
    "while True:\n",
    "    # cv2.imshow('image', image)\n",
    "    if cv2.waitKey(0) == ord('q'):\n",
    "        break\n",
    "    \n",
    "    # extract RoI\n",
    "    roi = image[41:221,316:446] #top_left = (316,41),bottom_right = (445,221),top_right = (445, 41),bottom_left = (316,221) \n",
    "    #cv2.imshow('RoI', roi)\n",
    "    \n",
    "    #paste the above RoI in another location of the image, (width & height) of area needs to \n",
    "    #match with RoI i.e., 180 (221-41), 130 (446-316)\n",
    "    image[50:50+180, 70:70+130] = roi     #first roi update\n",
    "    image[500:500+180, 70:70+130] = roi   #(x is changed, so the RoI may go up/down) wrt first roi update\n",
    "    image[50:50+180, 550:550+130] = roi #(y is changed, so the RoI may go left/right) wrt first roi update\n",
    "    image[500:500+180, 550:550+130] = roi #(x is changed, so the RoI may go up/down) wrt first roi update\n",
    "    cv2.imshow('updated image', image)\n",
    "    \n",
    "cv2.destroyAllWindows()"
   ]
  },
  {
   "cell_type": "code",
   "execution_count": 3,
   "id": "56920b6a",
   "metadata": {},
   "outputs": [],
   "source": [
    "#blend two images\n",
    "\n",
    "import cv2\n",
    "image_path1 = r'D:\\ComputerVision_Projects\\Image_Processing_1\\input\\avengers.jpg'\n",
    "image_path2 = r'D:\\ComputerVision_Projects\\Image_Processing_1\\input\\color_balls.jpg'\n",
    "\n",
    "#images must have same size\n",
    "image1 = cv2.imread(image_path1)\n",
    "image1 = cv2.resize(image1, (500,400))\n",
    "image2 =  cv2.imread(image_path2)\n",
    "image2 = cv2.resize(image2, (500,400))\n",
    "\n",
    "#blend them in 3 different ways\n",
    "image_plus = image1 + image2\n",
    "image_add = cv2.add(image1,image2)\n",
    "image_addWeighted = cv2.addWeighted(image1, 0.3, image2, 0.7,0)\n",
    "\n",
    "#loop the images for display\n",
    "image_list = [image_plus, image_add, image_addWeighted]\n",
    "image_name = ['image_plus', 'image_add', 'image_addWeighted']\n",
    "\n",
    "for i in range(0,3):\n",
    "    cv2.imshow(image_name[i], image_list[i])\n",
    "    cv2.waitKey(0)    \n",
    "\n",
    "cv2.destroyAllWindows()"
   ]
  }
 ],
 "metadata": {
  "kernelspec": {
   "display_name": "Python 3",
   "language": "python",
   "name": "python3"
  },
  "language_info": {
   "codemirror_mode": {
    "name": "ipython",
    "version": 3
   },
   "file_extension": ".py",
   "mimetype": "text/x-python",
   "name": "python",
   "nbconvert_exporter": "python",
   "pygments_lexer": "ipython3",
   "version": "3.8.8"
  },
  "varInspector": {
   "cols": {
    "lenName": 16,
    "lenType": 16,
    "lenVar": 40
   },
   "kernels_config": {
    "python": {
     "delete_cmd_postfix": "",
     "delete_cmd_prefix": "del ",
     "library": "var_list.py",
     "varRefreshCmd": "print(var_dic_list())"
    },
    "r": {
     "delete_cmd_postfix": ") ",
     "delete_cmd_prefix": "rm(",
     "library": "var_list.r",
     "varRefreshCmd": "cat(var_dic_list()) "
    }
   },
   "types_to_exclude": [
    "module",
    "function",
    "builtin_function_or_method",
    "instance",
    "_Feature"
   ],
   "window_display": false
  }
 },
 "nbformat": 4,
 "nbformat_minor": 5
}
